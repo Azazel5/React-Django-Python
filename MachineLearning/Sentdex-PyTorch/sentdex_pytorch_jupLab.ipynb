{
 "cells": [
  {
   "cell_type": "code",
   "execution_count": 11,
   "id": "23a17305-dcd9-4b75-833d-38f0f146db60",
   "metadata": {
    "id": "qwOuabTMCl5Z"
   },
   "outputs": [
    {
     "name": "stdout",
     "output_type": "stream",
     "text": [
      "Requirement already satisfied: torch in /Library/Frameworks/Python.framework/Versions/3.7/lib/python3.7/site-packages (1.10.0)\n",
      "Requirement already satisfied: torchvision in /Library/Frameworks/Python.framework/Versions/3.7/lib/python3.7/site-packages (0.11.1)\n",
      "Requirement already satisfied: torchaudio in /Library/Frameworks/Python.framework/Versions/3.7/lib/python3.7/site-packages (0.10.0)\n",
      "Requirement already satisfied: typing-extensions in /Library/Frameworks/Python.framework/Versions/3.7/lib/python3.7/site-packages (from torch) (3.10.0.0)\n",
      "Requirement already satisfied: numpy in /Library/Frameworks/Python.framework/Versions/3.7/lib/python3.7/site-packages (from torchvision) (1.21.4)\n",
      "Requirement already satisfied: pillow!=8.3.0,>=5.3.0 in /Library/Frameworks/Python.framework/Versions/3.7/lib/python3.7/site-packages (from torchvision) (8.2.0)\n",
      "\u001b[33mWARNING: You are using pip version 21.1.1; however, version 21.3.1 is available.\n",
      "You should consider upgrading via the '/Library/Frameworks/Python.framework/Versions/3.7/bin/python3.7 -m pip install --upgrade pip' command.\u001b[0m\n"
     ]
    }
   ],
   "source": [
    "!pip3 install torch torchvision torchaudio\n",
    "import torch\n",
    "from torchvision import transforms, datasets"
   ]
  },
  {
   "cell_type": "code",
   "execution_count": 12,
   "id": "1d24db35-ffcc-48bc-84e0-a01851c79f7b",
   "metadata": {
    "id": "iCrdXfBLCwEf"
   },
   "outputs": [],
   "source": [
    "x = torch.Tensor([5, 3])\n",
    "y = torch.Tensor([2, 1])\n",
    "\n",
    "x = torch.zeros([2, 5])\n",
    "y = torch.rand([2, 5])\n",
    "\n",
    "# Changing the shape of the Tensor\n",
    "y = y.view([1, 10])"
   ]
  },
  {
   "cell_type": "code",
   "execution_count": 13,
   "id": "d6dd33ff-747b-4431-b7ac-aedf4af64c88",
   "metadata": {
    "colab": {
     "base_uri": "https://localhost:8080/",
     "height": 443,
     "referenced_widgets": [
      "ec7b680efcc84ccfa6f669fafa12d2e5",
      "d65146cc7bb4402ba4fd4353aca46ab1",
      "9987e2a3e2a641b7a5173982e2b40b7d",
      "5bb4218c86934c449d22883ef7dc9f7d",
      "012c4097fe474f0e865f8eecbb6242bd",
      "48d3ff37676942409d1d9f5ab48a762a",
      "537519675989406ea809ec29f63edcb9",
      "7ae73644ef5c44bbbaf4f9c535c64993",
      "0705053bf1ef49bda6620c3cb1635bfc",
      "fce54ab02c844e83ad7228b5fb13c9a9",
      "c7f189e69c41487d8128f431a31f8176",
      "7756405d0c114a479d87c20cba6d6b0d",
      "e95342f4dd8a449385766e008819faf0",
      "516542303e854da2ad0a03d1017245ff",
      "aba6cba6372b420b888ba00a2135869d",
      "b72e25574c7f4c988bcf3e09b3a8882e",
      "d9ec27228d5145a3ad1b30370f57a9dc",
      "19bf972b752541cfbb4732483e8488c6",
      "e40802c6f8a344a6afbdf770c2c6f333",
      "6569105cc1984ce5bee8187b25d9c4f9",
      "cd5805bbce6d4fac820b1c3a98d7acd9",
      "ab761794d8a1429d8af4c7cf40537079",
      "14a76f7e77aa4f74be4dda8ca34e990d",
      "dafebcc64f5b4476a58706c8c0546a8c",
      "c2fa7accefba4be69848091b3e0cfa48",
      "47c5eb2c472e4a70a12273204d2770f8",
      "a33a925f36ef42b88be679d029e5daee",
      "eb796b1209244043ba224eb72ba4c0dc",
      "1b9ba0b385fb403d9ddca3fc5a878a7d",
      "e5d65798bc514ab0958a9e4c6f9440e5",
      "d68486e8185847328671b670bebbe5cb",
      "018d5bc08866419caa222d7576c0b40e",
      "22bb5025519546fe887a0ced405e2419",
      "c67e1e9f51f74e8085d657538c748ce3",
      "8e657a099c55454abd7980db973c8576",
      "08181a07e61c4bc482ec5bc45863b95c",
      "5deede5e681e47469eef3b8147e78910",
      "c2240846d79c4983ba34af747923c1b2",
      "62add7ce4e61492b8d6fb3cb5ef6a66d",
      "16e60050d1bb472abdb210d0b678c0ed",
      "d9dca9aefe2c4ea3b3a0428b82265fc3",
      "1f307c6b63924ee78e1a52cff1c01ae5",
      "2e110e8344c54584bb4a16b773640eea",
      "f55ba9e29dc04fc1b808e05b5b1c0bbc"
     ]
    },
    "id": "s8nuT0EXEpb6",
    "outputId": "6fdeb85c-0089-4785-9af3-7201be669edc"
   },
   "outputs": [
    {
     "name": "stdout",
     "output_type": "stream",
     "text": [
      "Downloading http://yann.lecun.com/exdb/mnist/train-images-idx3-ubyte.gz\n"
     ]
    },
    {
     "name": "stderr",
     "output_type": "stream",
     "text": [
      "0.2%"
     ]
    },
    {
     "name": "stdout",
     "output_type": "stream",
     "text": [
      "Downloading http://yann.lecun.com/exdb/mnist/train-images-idx3-ubyte.gz to MNIST/raw/train-images-idx3-ubyte.gz\n"
     ]
    },
    {
     "name": "stderr",
     "output_type": "stream",
     "text": [
      "102.8%"
     ]
    },
    {
     "name": "stdout",
     "output_type": "stream",
     "text": [
      "\n",
      "Downloading http://yann.lecun.com/exdb/mnist/train-labels-idx1-ubyte.gz\n",
      "Downloading http://yann.lecun.com/exdb/mnist/train-labels-idx1-ubyte.gz to MNIST/raw/train-labels-idx1-ubyte.gz\n",
      "Extracting MNIST/raw/train-labels-idx1-ubyte.gz to MNIST/raw\n",
      "\n",
      "Downloading http://yann.lecun.com/exdb/mnist/t10k-images-idx3-ubyte.gz\n",
      "Downloading http://yann.lecun.com/exdb/mnist/t10k-images-idx3-ubyte.gz to MNIST/raw/t10k-images-idx3-ubyte.gz\n"
     ]
    },
    {
     "name": "stderr",
     "output_type": "stream",
     "text": [
      "\n",
      "78.9%"
     ]
    },
    {
     "name": "stdout",
     "output_type": "stream",
     "text": [
      "Downloading http://yann.lecun.com/exdb/mnist/t10k-labels-idx1-ubyte.gz to MNIST/raw/t10k-labels-idx1-ubyte.gz\n"
     ]
    },
    {
     "name": "stderr",
     "output_type": "stream",
     "text": [
      "112.7%"
     ]
    },
    {
     "name": "stdout",
     "output_type": "stream",
     "text": [
      "Extracting MNIST/raw/t10k-labels-idx1-ubyte.gz to MNIST/raw\n",
      "\n"
     ]
    },
    {
     "name": "stderr",
     "output_type": "stream",
     "text": [
      "\n"
     ]
    }
   ],
   "source": [
    "# Pass in transformers to the data here\n",
    "train = datasets.MNIST(\"\", train=True, download=True,\n",
    "                       transform = transforms.Compose([transforms.ToTensor()]))\n",
    "\n",
    "test = datasets.MNIST(\"\", train=False, download=True,\n",
    "                       transform = transforms.Compose([transforms.ToTensor()]))"
   ]
  },
  {
   "cell_type": "code",
   "execution_count": 14,
   "id": "d6ee1205-face-4b53-a89a-9975f278549a",
   "metadata": {
    "id": "KVyb3jNnKmwY"
   },
   "outputs": [],
   "source": [
    "# Using batches of data is more efficient, especially when the dataset\n",
    "# is huge. Also, passing in batches lets the machine learn more generalizations\n",
    "trainset = torch.utils.data.DataLoader(train, batch_size=10, shuffle=True)\n",
    "testset = torch.utils.data.DataLoader(test, batch_size=10, shuffle=True)"
   ]
  },
  {
   "cell_type": "code",
   "execution_count": 15,
   "id": "76f747c1-548f-4e3f-8fba-e9c96c45beaf",
   "metadata": {
    "colab": {
     "base_uri": "https://localhost:8080/"
    },
    "id": "Sz42WEIuMsOO",
    "outputId": "d51b89cf-431e-4e1e-c7ca-06e74d14493c"
   },
   "outputs": [
    {
     "name": "stdout",
     "output_type": "stream",
     "text": [
      "[tensor([[[[0., 0., 0.,  ..., 0., 0., 0.],\n",
      "          [0., 0., 0.,  ..., 0., 0., 0.],\n",
      "          [0., 0., 0.,  ..., 0., 0., 0.],\n",
      "          ...,\n",
      "          [0., 0., 0.,  ..., 0., 0., 0.],\n",
      "          [0., 0., 0.,  ..., 0., 0., 0.],\n",
      "          [0., 0., 0.,  ..., 0., 0., 0.]]],\n",
      "\n",
      "\n",
      "        [[[0., 0., 0.,  ..., 0., 0., 0.],\n",
      "          [0., 0., 0.,  ..., 0., 0., 0.],\n",
      "          [0., 0., 0.,  ..., 0., 0., 0.],\n",
      "          ...,\n",
      "          [0., 0., 0.,  ..., 0., 0., 0.],\n",
      "          [0., 0., 0.,  ..., 0., 0., 0.],\n",
      "          [0., 0., 0.,  ..., 0., 0., 0.]]],\n",
      "\n",
      "\n",
      "        [[[0., 0., 0.,  ..., 0., 0., 0.],\n",
      "          [0., 0., 0.,  ..., 0., 0., 0.],\n",
      "          [0., 0., 0.,  ..., 0., 0., 0.],\n",
      "          ...,\n",
      "          [0., 0., 0.,  ..., 0., 0., 0.],\n",
      "          [0., 0., 0.,  ..., 0., 0., 0.],\n",
      "          [0., 0., 0.,  ..., 0., 0., 0.]]],\n",
      "\n",
      "\n",
      "        ...,\n",
      "\n",
      "\n",
      "        [[[0., 0., 0.,  ..., 0., 0., 0.],\n",
      "          [0., 0., 0.,  ..., 0., 0., 0.],\n",
      "          [0., 0., 0.,  ..., 0., 0., 0.],\n",
      "          ...,\n",
      "          [0., 0., 0.,  ..., 0., 0., 0.],\n",
      "          [0., 0., 0.,  ..., 0., 0., 0.],\n",
      "          [0., 0., 0.,  ..., 0., 0., 0.]]],\n",
      "\n",
      "\n",
      "        [[[0., 0., 0.,  ..., 0., 0., 0.],\n",
      "          [0., 0., 0.,  ..., 0., 0., 0.],\n",
      "          [0., 0., 0.,  ..., 0., 0., 0.],\n",
      "          ...,\n",
      "          [0., 0., 0.,  ..., 0., 0., 0.],\n",
      "          [0., 0., 0.,  ..., 0., 0., 0.],\n",
      "          [0., 0., 0.,  ..., 0., 0., 0.]]],\n",
      "\n",
      "\n",
      "        [[[0., 0., 0.,  ..., 0., 0., 0.],\n",
      "          [0., 0., 0.,  ..., 0., 0., 0.],\n",
      "          [0., 0., 0.,  ..., 0., 0., 0.],\n",
      "          ...,\n",
      "          [0., 0., 0.,  ..., 0., 0., 0.],\n",
      "          [0., 0., 0.,  ..., 0., 0., 0.],\n",
      "          [0., 0., 0.,  ..., 0., 0., 0.]]]]), tensor([8, 5, 8, 6, 3, 6, 9, 6, 9, 3])]\n"
     ]
    }
   ],
   "source": [
    "for data in trainset:\n",
    "  print(data)\n",
    "  break"
   ]
  },
  {
   "cell_type": "code",
   "execution_count": 16,
   "id": "a6749c51-a4b1-4395-b2b7-c0b130239627",
   "metadata": {
    "colab": {
     "base_uri": "https://localhost:8080/"
    },
    "id": "9_ZD49lBNEdn",
    "outputId": "d1cc88b8-3efb-4ea3-c695-45e3c4c61092"
   },
   "outputs": [
    {
     "name": "stdout",
     "output_type": "stream",
     "text": [
      "tensor(8)\n"
     ]
    }
   ],
   "source": [
    "x, y = data[0][0], data[1][0]\n",
    "print(y)"
   ]
  },
  {
   "cell_type": "code",
   "execution_count": 18,
   "id": "4b79da5f-c983-40cd-84de-8f78eb47f24a",
   "metadata": {
    "id": "9LYxFt9aNdWs"
   },
   "outputs": [
    {
     "name": "stdout",
     "output_type": "stream",
     "text": [
      "Collecting matplotlib\n",
      "  Using cached matplotlib-3.5.0-cp37-cp37m-macosx_10_9_x86_64.whl (7.3 MB)\n",
      "Collecting kiwisolver>=1.0.1\n",
      "  Using cached kiwisolver-1.3.2-cp37-cp37m-macosx_10_9_x86_64.whl (61 kB)\n",
      "Requirement already satisfied: packaging>=20.0 in /Library/Frameworks/Python.framework/Versions/3.7/lib/python3.7/site-packages (from matplotlib) (20.9)\n",
      "Collecting fonttools>=4.22.0\n",
      "  Downloading fonttools-4.28.2-py3-none-any.whl (880 kB)\n",
      "\u001b[K     |████████████████████████████████| 880 kB 2.0 MB/s eta 0:00:01\n",
      "\u001b[?25hRequirement already satisfied: pyparsing>=2.2.1 in /Library/Frameworks/Python.framework/Versions/3.7/lib/python3.7/site-packages (from matplotlib) (2.4.7)\n",
      "Collecting setuptools-scm>=4\n",
      "  Using cached setuptools_scm-6.3.2-py3-none-any.whl (33 kB)\n",
      "Requirement already satisfied: numpy>=1.17 in /Library/Frameworks/Python.framework/Versions/3.7/lib/python3.7/site-packages (from matplotlib) (1.21.4)\n",
      "Requirement already satisfied: python-dateutil>=2.7 in /Library/Frameworks/Python.framework/Versions/3.7/lib/python3.7/site-packages (from matplotlib) (2.8.1)\n",
      "Collecting cycler>=0.10\n",
      "  Using cached cycler-0.11.0-py3-none-any.whl (6.4 kB)\n",
      "Requirement already satisfied: pillow>=6.2.0 in /Library/Frameworks/Python.framework/Versions/3.7/lib/python3.7/site-packages (from matplotlib) (8.2.0)\n",
      "Requirement already satisfied: six>=1.5 in /Library/Frameworks/Python.framework/Versions/3.7/lib/python3.7/site-packages (from python-dateutil>=2.7->matplotlib) (1.14.0)\n",
      "Collecting tomli>=1.0.0\n",
      "  Using cached tomli-1.2.2-py3-none-any.whl (12 kB)\n",
      "Requirement already satisfied: setuptools in /Library/Frameworks/Python.framework/Versions/3.7/lib/python3.7/site-packages (from setuptools-scm>=4->matplotlib) (41.2.0)\n",
      "Installing collected packages: tomli, setuptools-scm, kiwisolver, fonttools, cycler, matplotlib\n",
      "Successfully installed cycler-0.11.0 fonttools-4.28.2 kiwisolver-1.3.2 matplotlib-3.5.0 setuptools-scm-6.3.2 tomli-1.2.2\n",
      "\u001b[33mWARNING: You are using pip version 21.1.1; however, version 21.3.1 is available.\n",
      "You should consider upgrading via the '/Library/Frameworks/Python.framework/Versions/3.7/bin/python3.7 -m pip install --upgrade pip' command.\u001b[0m\n"
     ]
    }
   ],
   "source": [
    "!pip3 install matplotlib\n",
    "import matplotlib.pyplot as plt"
   ]
  },
  {
   "cell_type": "code",
   "execution_count": 19,
   "id": "51bba036-3dc4-4786-a885-58b126cdae00",
   "metadata": {
    "colab": {
     "base_uri": "https://localhost:8080/",
     "height": 265
    },
    "id": "TLOn3zUUNg7v",
    "outputId": "758148e2-ce30-4453-b65e-da0d9301dc45"
   },
   "outputs": [
    {
     "data": {
      "image/png": "[encoded data removed]",
      "text/plain": [
       "<Figure size 432x288 with 1 Axes>"
      ]
     },
     "metadata": {
      "needs_background": "light"
     },
     "output_type": "display_data"
    }
   ],
   "source": [
    "# PyTorch has a different shaping standard. There's a 1x28x28 shaping\n",
    "# style for an image.\n",
    "\n",
    "plt.imshow(x.view([28, 28]))\n",
    "plt.show()"
   ]
  },
  {
   "cell_type": "code",
   "execution_count": 20,
   "id": "ab2e33d8-7785-4043-bc79-68266dee5ed9",
   "metadata": {
    "id": "VZgYp1xiOX_g"
   },
   "outputs": [],
   "source": [
    "# Optimizer tries to decrease loss and it doesn't have any idea\n",
    "# how much better we could get. You want to balance the dataset."
   ]
  },
  {
   "cell_type": "code",
   "execution_count": 21,
   "id": "c8bc10d6-b4b4-4856-82e5-1d1cfa51a660",
   "metadata": {
    "colab": {
     "base_uri": "https://localhost:8080/"
    },
    "id": "xEvNdJe5O4zN",
    "outputId": "166001b4-aab8-4cc7-a45d-54d4bb1db25c"
   },
   "outputs": [
    {
     "name": "stdout",
     "output_type": "stream",
     "text": [
      "{0: 5923, 1: 6742, 2: 5958, 3: 6131, 4: 5842, 5: 5421, 6: 5918, 7: 6265, 8: 5851, 9: 5949}\n"
     ]
    }
   ],
   "source": [
    "total = 0\n",
    "counter_dict = {0:0, 1:0, 2:0, 3:0, 4:0, 5:0, 6:0, 7:0, 8:0, 9:0}\n",
    "for data in trainset:\n",
    "  xs, ys = data\n",
    "  \n",
    "  for y in ys:\n",
    "    counter_dict[int(y)] += 1\n",
    "    total += 1\n",
    "\n",
    "print(counter_dict)"
   ]
  },
  {
   "cell_type": "code",
   "execution_count": 22,
   "id": "62c233b7-d635-4145-af1b-bcdcaec6f7ad",
   "metadata": {
    "colab": {
     "base_uri": "https://localhost:8080/"
    },
    "id": "piAEpv1_Pprl",
    "outputId": "fc84e926-bc77-4760-bdb4-c8cf6ed03e6d"
   },
   "outputs": [
    {
     "name": "stdout",
     "output_type": "stream",
     "text": [
      "0: 9.871666666666666\n",
      "1: 11.236666666666666\n",
      "2: 9.93\n",
      "3: 10.218333333333334\n",
      "4: 9.736666666666666\n",
      "5: 9.035\n",
      "6: 9.863333333333333\n",
      "7: 10.441666666666666\n",
      "8: 9.751666666666667\n",
      "9: 9.915000000000001\n"
     ]
    }
   ],
   "source": [
    "for i in counter_dict:\n",
    "  print(f\"{i}: {counter_dict[i]/total*100}\")"
   ]
  },
  {
   "cell_type": "code",
   "execution_count": 23,
   "id": "30a26610-895e-4ced-844a-0710b9501442",
   "metadata": {
    "id": "w4wmtz98QNLu"
   },
   "outputs": [],
   "source": [
    "import torch.nn as nn\n",
    "import torch.nn.functional as F"
   ]
  },
  {
   "cell_type": "code",
   "execution_count": 24,
   "id": "45d9c952-363e-45b5-893c-ae5313d5a7ef",
   "metadata": {
    "id": "_6S2Qx5cQb8a"
   },
   "outputs": [],
   "source": [
    "class Net(nn.Module):\n",
    "  def __init__(self):\n",
    "    super().__init__()\n",
    "    # 3 layers of 64 neurons for our hidden layer\n",
    "    self.fc1 = nn.Linear(784, 64) # Activation function runs on the output side\n",
    "    self.fc2 = nn.Linear(64, 64)\n",
    "    self.fc3 = nn.Linear(64, 64)\n",
    "    self.fc4 = nn.Linear(64, 10)\n",
    "\n",
    "  def forward(self, x):\n",
    "    # Feed forward neural net\n",
    "    # The activation function is whether or not the neuron is firing\n",
    "    # Don't wanna run relu on the output layer. Log softmax is a good choice.\n",
    "\n",
    "    x = F.relu(self.fc1(x))\n",
    "    x = F.relu(self.fc2(x))\n",
    "    x = F.relu(self.fc3(x))\n",
    "    x = self.fc4(x)\n",
    "\n",
    "    # Which dimension to apply softmax on? Output is flat, so dim=1\n",
    "    # It is similar to axes.\n",
    "    return F.log_softmax(x, dim=1)\n",
    "\n",
    "net = Net()"
   ]
  },
  {
   "cell_type": "code",
   "execution_count": 25,
   "id": "f0ace3ba-5ce1-4ed5-adfb-894bb4118531",
   "metadata": {
    "colab": {
     "base_uri": "https://localhost:8080/"
    },
    "id": "qhPkuFWzkOg5",
    "outputId": "05ef0dd7-63cd-4f1a-bf21-1fedb77d9471"
   },
   "outputs": [
    {
     "name": "stdout",
     "output_type": "stream",
     "text": [
      "tensor([[-2.3616, -2.2694, -2.3541, -2.1959, -2.2857, -2.2462, -2.4061, -2.3712,\n",
      "         -2.3307, -2.2269]], grad_fn=<LogSoftmaxBackward0>)\n"
     ]
    }
   ],
   "source": [
    "X = torch.rand((28, 28))\n",
    "# Why is the -1 here? Says that the input is of unknown shape\n",
    "X = X.view(-1, 28*28)\n",
    "output = net(X)\n",
    "print(output)"
   ]
  },
  {
   "cell_type": "code",
   "execution_count": 26,
   "id": "27736b28-2b70-426a-a7b0-f38ecb5021bc",
   "metadata": {
    "colab": {
     "base_uri": "https://localhost:8080/"
    },
    "id": "93qxQA4RdpOG",
    "outputId": "f8f00230-1e25-415b-e610-6c4b5c04bb9b"
   },
   "outputs": [
    {
     "name": "stdout",
     "output_type": "stream",
     "text": [
      "tensor(0.1545, grad_fn=<NllLossBackward0>)\n",
      "tensor(0.3452, grad_fn=<NllLossBackward0>)\n",
      "tensor(0.0661, grad_fn=<NllLossBackward0>)\n"
     ]
    }
   ],
   "source": [
    "# Loss and Optimizer. We want to minimize loss obviously. \n",
    "# Note - You can tell your neural network which weights to adjust\n",
    "import torch.optim as optim\n",
    "\n",
    "# You don't want your learning rate to be too large as it won't\n",
    "# catch the nuances of the data. Also, it shouldn't be too small\n",
    "# as the solution will only be a local maxima/minima. \n",
    "\n",
    "# On complex problems, we use a decaying learning rate.\n",
    "optimizer = optim.Adam(net.parameters(), lr=0.001)\n",
    "EPOCHS = 3 # 3 full passes through data\n",
    "\n",
    "# Zero gradient is if you wanna batch the data up\n",
    "# 2 main ways of calculating loss: one hot vector ([0, 1, 0, ...]) \n",
    "# and nll (for scalar data)\n",
    "for epoch in range(EPOCHS):\n",
    "  for data in trainset:\n",
    "    X, y = data\n",
    "    net.zero_grad()\n",
    "    output = net(X.view(-1, 28*28))\n",
    "    loss = F.nll_loss(output, y)\n",
    "    loss.backward()\n",
    "    optimizer.step()\n",
    "  print(loss)\n"
   ]
  },
  {
   "cell_type": "code",
   "execution_count": 27,
   "id": "c493adc3-f4f6-4f19-ba75-85ac2e3cd840",
   "metadata": {
    "id": "h_mOBrKuiQjz"
   },
   "outputs": [
    {
     "name": "stdout",
     "output_type": "stream",
     "text": [
      "Accuracy: 0.98\n"
     ]
    }
   ],
   "source": [
    "correct = 0\n",
    "total = 0\n",
    "\n",
    "with torch.no_grad():\n",
    "  for data in trainset:\n",
    "    X, y = data\n",
    "    output = net(X.view(-1, 28*28))\n",
    "    for idx, i in enumerate(output):\n",
    "      if torch.argmax(i) == y[idx]:\n",
    "        correct += 1\n",
    "      \n",
    "      total += 1\n",
    "\n",
    "print(\"Accuracy: {}\".format(round(correct/total, 3)))"
   ]
  },
  {
   "cell_type": "code",
   "execution_count": 28,
   "id": "128861b5-cee1-407e-a77f-57533195ea7c",
   "metadata": {
    "id": "I6dHXqrgDyJY"
   },
   "outputs": [],
   "source": [
    "import matplotlib.pyplot as plt\n"
   ]
  },
  {
   "cell_type": "code",
   "execution_count": 29,
   "id": "f21939b2-4782-427b-995d-3163b8692b66",
   "metadata": {
    "id": "EeqRmKZ3Dzz1"
   },
   "outputs": [
    {
     "data": {
      "image/png": "[encoded data removed]",
      "text/plain": [
       "<Figure size 432x288 with 1 Axes>"
      ]
     },
     "metadata": {
      "needs_background": "light"
     },
     "output_type": "display_data"
    },
    {
     "name": "stdout",
     "output_type": "stream",
     "text": [
      "tensor(7)\n"
     ]
    }
   ],
   "source": [
    "plt.imshow(X[1].view(28, 28))\n",
    "plt.show()\n",
    "print(torch.argmax(net(X[1].view(-1, 28*28))[0]))"
   ]
  },
  {
   "cell_type": "markdown",
   "id": "da3a4f6f-408d-4e18-902e-8d3195814d70",
   "metadata": {
    "id": "GxAB0FKjE0LN"
   },
   "source": [
    "# CNN (Convo Neural Net)"
   ]
  },
  {
   "cell_type": "code",
   "execution_count": 32,
   "id": "cdd516be-f0b4-412f-856b-722c5f202743",
   "metadata": {
    "id": "Jfk83ZuYE8Sc"
   },
   "outputs": [],
   "source": [
    "# Traditionally, CNNs were used for image stuff. However, in recent\n",
    "# year, they have even beat RNNs (Reccurent) in sequential problems.\n",
    "# Images are arrays of pixels. Each convolution (or kernel) takes a\n",
    "# subset of these pixels and look for features within them.\n",
    "\n",
    "# Condense the image and then pool them (maxpooling). "
   ]
  },
  {
   "cell_type": "code",
   "execution_count": 38,
   "id": "b817ea4c-c952-43f6-b4b8-96a0088d15ab",
   "metadata": {
    "id": "OuTrfb80NlEa"
   },
   "outputs": [
    {
     "name": "stdout",
     "output_type": "stream",
     "text": [
      "Requirement already satisfied: numpy in /Library/Frameworks/Python.framework/Versions/3.7/lib/python3.7/site-packages (1.21.4)\n",
      "Requirement already satisfied: opencv-python in /Library/Frameworks/Python.framework/Versions/3.7/lib/python3.7/site-packages (4.5.4.60)\n",
      "Collecting tqdm\n",
      "  Downloading tqdm-4.62.3-py2.py3-none-any.whl (76 kB)\n",
      "\u001b[K     |████████████████████████████████| 76 kB 5.3 MB/s eta 0:00:011\n",
      "\u001b[?25hInstalling collected packages: tqdm\n",
      "Successfully installed tqdm-4.62.3\n",
      "\u001b[33mWARNING: You are using pip version 21.1.1; however, version 21.3.1 is available.\n",
      "You should consider upgrading via the '/Library/Frameworks/Python.framework/Versions/3.7/bin/python3.7 -m pip install --upgrade pip' command.\u001b[0m\n"
     ]
    }
   ],
   "source": [
    "!pip3 install numpy opencv-python tqdm\n",
    "\n",
    "import os\n",
    "import cv2\n",
    "import numpy as np\n",
    "from tqdm import tqdm # progress bar        "
   ]
  },
  {
   "cell_type": "code",
   "execution_count": 47,
   "id": "7ea11ffe-2035-408d-8345-7fac85c3c94f",
   "metadata": {},
   "outputs": [],
   "source": [
    "REBUILD_DATA = False\n",
    "\n",
    "class DogsVSCats:\n",
    "  # Images have varying size and shape, but we want them\n",
    "  # to be uniform.\n",
    "  IMG_SIZE = 50\n",
    "  CATS = \"catsVSdogs/PetImages/Cat\"\n",
    "  DOGS = \"catsVSdogs/PetImages/Dog\"\n",
    "  LABELS = {CATS: 0, DOGS: 1}\n",
    "\n",
    "  training_data = []\n",
    "  # MAKE SURE THE DATASET IS BALANCED. If there are 10000 pictures of cats and 100 of dogs, you're not\n",
    "  # gonna make a decent neural network ovviamente.\n",
    "  catcount = 0\n",
    "  dogcount = 0\n",
    " \n",
    "    # Everything is a feature to the machine, even the colors of\n",
    "    # an image. So think about whether color makes a difference\n",
    "    # to your neural net.\n",
    "  def make_training_data(self):\n",
    "    for label in self.LABELS:\n",
    "      for f in tqdm(os.listdir(label)):\n",
    "        try:\n",
    "            path = os.path.join(label, f)\n",
    "            img = cv2.imread(path, cv2.IMREAD_GRAYSCALE)\n",
    "            img = cv2.resize(img, (self.IMG_SIZE, self.IMG_SIZE))\n",
    "\n",
    "            # One hot vectors allow a better loss metric. Once again,\n",
    "            # an example of a one hot vector would be [1, 0] if it's\n",
    "            # a cat and [0, 1] if it's a dog. The np.eye function\n",
    "            # helps doing that with the diagonals.\n",
    "            self.training_data.append([np.array(img), np.eye(2)[self.LABELS[label]]])\n",
    "\n",
    "            if label == self.CATS:\n",
    "                self.catcount += 1\n",
    "\n",
    "            elif label == self.DOGS:\n",
    "                self.dogcount += 1\n",
    "        except Exception as e:\n",
    "            pass\n",
    "        \n",
    "    np.random.shuffle(self.training_data)\n",
    "    np.save(\"training_data.npy\", self.training_data)\n",
    "    print(\"Cats: {}\".format(self.catcount))\n",
    "    print(\"Dogs: {}\".format(self.dogcount))\n",
    "    \n",
    "\n",
    "if REBUILD_DATA:\n",
    "    dogvcats = DogsVSCats()\n",
    "    dogvcats.make_training_data()\n",
    "        "
   ]
  },
  {
   "cell_type": "code",
   "execution_count": 49,
   "id": "867ec211-d1b5-4d3d-96d0-592821e235f4",
   "metadata": {},
   "outputs": [],
   "source": [
    "training_data = np.load(\"training_data.npy\", allow_pickle=True)"
   ]
  },
  {
   "cell_type": "code",
   "execution_count": 52,
   "id": "7c62a48f-b17d-4adf-aa5a-dbc72071b505",
   "metadata": {},
   "outputs": [
    {
     "name": "stdout",
     "output_type": "stream",
     "text": [
      "[array([[143, 219, 215, ...,  46,  12,  28],\n",
      "        [138, 212, 211, ...,  65,  15,  36],\n",
      "        [133, 202, 196, ...,  45,  27,  70],\n",
      "        ...,\n",
      "        [230, 229, 226, ..., 100, 155, 128],\n",
      "        [227, 224, 226, ...,  65, 153, 173],\n",
      "        [227, 227, 226, ...,  67, 136, 183]], dtype=uint8) array([0., 1.])]\n"
     ]
    }
   ],
   "source": [
    "# This is the power of appending the np array of the image and its\n",
    "# associated one hot vector. It'll show what each image is as\n",
    "# numbers; easy for the neural net to digest.\n",
    "print(training_data[1])"
   ]
  },
  {
   "cell_type": "code",
   "execution_count": 55,
   "id": "80918d20-ec61-4d03-b230-db915891d034",
   "metadata": {},
   "outputs": [
    {
     "data": {
      "image/png": "[encoded data removed]",
      "text/plain": [
       "<Figure size 432x288 with 1 Axes>"
      ]
     },
     "metadata": {
      "needs_background": "light"
     },
     "output_type": "display_data"
    }
   ],
   "source": [
    "plt.imshow(training_data[1][0], cmap=\"gray\")\n",
    "plt.show()"
   ]
  },
  {
   "cell_type": "code",
   "execution_count": 77,
   "id": "b5dd8f60-6ceb-4d8b-8b37-2de5e58bcf3d",
   "metadata": {},
   "outputs": [],
   "source": [
    "# Building a neural network to classify images\n",
    "\n",
    "class Net(nn.Module):\n",
    "    def __init__(self):\n",
    "        super().__init__()\n",
    "        # 5 x 5 kernel\n",
    "        # Images are 2D so that's all we need. If you want\n",
    "        # more dimensions, you can code them yourself as well!\n",
    "        \n",
    "        self.conv1 = nn.Conv2d(1, 32, 5)\n",
    "        self.conv2 = nn.Conv2d(32, 64, 5)\n",
    "        self.conv3 = nn.Conv2d(64, 128, 5)      \n",
    "        \n",
    "        # Now we have to flatten this 2D conv layer to 1D or \n",
    "        # \"flatten\" in TensorFlow terminology\n",
    "        x = torch.randn(50, 50).view(-1, 1, 50, 50)\n",
    "        self._to_linear = None\n",
    "        self.convs(x)\n",
    "        \n",
    "        # The important part is figuring out what the input number\n",
    "        # to the first linear layer is going to be.\n",
    "        self.fc1 = nn.Linear(self._to_linear, 512)\n",
    "        self.fc2 = nn.Linear(512, 2)\n",
    "        \n",
    "    # We're gonna run the forward method through the three conv\n",
    "    # layers in an attemp to see the result - to see what to\n",
    "    # pass as input to the input fc1 layer\n",
    "    def convs(self, x):\n",
    "        x = F.max_pool2d(F.relu(self.conv1(x)), (2, 2))\n",
    "        x = F.max_pool2d(F.relu(self.conv2(x)), (2, 2))\n",
    "        x = F.max_pool2d(F.relu(self.conv3(x)), (2, 2))\n",
    "        if not self._to_linear:\n",
    "            self._to_linear = x[0].shape[0]*x[0].shape[1]*x[0].shape[2]\n",
    "        \n",
    "        return x\n",
    "    \n",
    "    def forward(self, x):\n",
    "        # Gotta run convs or Flatten twice to know the number of\n",
    "        # input neurons\n",
    "        x = self.convs(x)\n",
    "        x = x.view(-1, self._to_linear)\n",
    "        x = F.relu(self.fc1(x))\n",
    "        x = self.fc2(x)\n",
    "        \n",
    "        return F.softmax(x, dim=1)\n",
    "        \n",
    "        \n",
    "net = Net()"
   ]
  },
  {
   "cell_type": "code",
   "execution_count": 73,
   "id": "fc837832-3cb2-47fa-a42d-2c6ec5707d74",
   "metadata": {},
   "outputs": [],
   "source": [
    "import torch.optim as optim\n",
    "\n",
    "optimizer = optim.Adam(net.parameters(), lr=0.001)\n",
    "loss_function = nn.MSELoss()\n",
    "\n",
    "X = torch.Tensor([i[0] for i in training_data]).view(-1, 50, 50)\n",
    "X = X / 255.0    # Scaling/Normalizing the image pixel data\n",
    "# No need to reshape the y (label) values\n",
    "y = torch.Tensor([i[1] for i in training_data])\n",
    "\n",
    "# Seperating training/validation data\n",
    "VAL_PCT = 0.1\n",
    "val_size = int(len(X)*VAL_PCT)\n"
   ]
  },
  {
   "cell_type": "code",
   "execution_count": 74,
   "id": "d6d1f79e-9dc4-40a3-8f4a-02330f363bd1",
   "metadata": {},
   "outputs": [],
   "source": [
    "train_x = X[:-val_size]\n",
    "train_y = y[:-val_size]\n",
    "\n",
    "test_x = X[-val_size:]\n",
    "test_y = y[-val_size:]"
   ]
  },
  {
   "cell_type": "code",
   "execution_count": 78,
   "id": "a4ec533a-c387-4901-9955-b116e6f68815",
   "metadata": {},
   "outputs": [
    {
     "name": "stderr",
     "output_type": "stream",
     "text": [
      "100%|█████████████████████████████████████████| 225/225 [01:02<00:00,  3.58it/s]"
     ]
    },
    {
     "name": "stdout",
     "output_type": "stream",
     "text": [
      "tensor(0.2490, grad_fn=<MseLossBackward0>)\n"
     ]
    },
    {
     "name": "stderr",
     "output_type": "stream",
     "text": [
      "\n"
     ]
    }
   ],
   "source": [
    "BATCH_SIZE = 100\n",
    "EPOCHS = 1\n",
    "\n",
    "for epoch in range(EPOCHS):\n",
    "    for i in tqdm(range(0, len(train_x), BATCH_SIZE)):\n",
    "        batch_x = train_x[i:i + BATCH_SIZE].view(-1, 1, 50, 50)\n",
    "        batch_y = train_y[i:i + BATCH_SIZE]\n",
    "        \n",
    "        # gotta zero the gradients\n",
    "        # no difference between optimizer.zero_grad and net.zero_grad\n",
    "        # if you've passed all the network's parameters inside the optimizer.\n",
    "        \n",
    "        net.zero_grad()\n",
    "        outputs = net(batch_x)\n",
    "        loss = loss_function(outputs, batch_y)\n",
    "        loss.backward()\n",
    "        optimizer.step()\n",
    "        \n",
    "print(loss)"
   ]
  },
  {
   "cell_type": "code",
   "execution_count": 80,
   "id": "9044d63b-15d9-4f1b-8e61-f33420b949e4",
   "metadata": {},
   "outputs": [
    {
     "name": "stderr",
     "output_type": "stream",
     "text": [
      "100%|██████████████████████████████████████| 2494/2494 [00:03<00:00, 688.47it/s]"
     ]
    },
    {
     "name": "stdout",
     "output_type": "stream",
     "text": [
      "Accuracy: 0.488\n"
     ]
    },
    {
     "name": "stderr",
     "output_type": "stream",
     "text": [
      "\n"
     ]
    }
   ],
   "source": [
    "correct = 0\n",
    "total = 0\n",
    "with torch.no_grad():\n",
    "    for i in tqdm(range(len(test_x))):\n",
    "        real_class = torch.argmax(test_y[i])\n",
    "        net_out = net(test_x[i].view(-1, 1, 50, 50))[0]\n",
    "        predicted_class = torch.argmax(net_out)\n",
    "        \n",
    "        if predicted_class == real_class:\n",
    "            correct += 1\n",
    "        \n",
    "        total += 1\n",
    "        \n",
    "print(\"Accuracy: {}\".format(round(correct/total, 3)))\n"
   ]
  },
  {
   "cell_type": "code",
   "execution_count": null,
   "id": "b2bd67d9-b0b9-4232-810f-2958d3155812",
   "metadata": {},
   "outputs": [],
   "source": []
  }
 ],
 "metadata": {
  "kernelspec": {
   "display_name": "Python 3 (ipykernel)",
   "language": "python",
   "name": "python3"
  },
  "language_info": {
   "codemirror_mode": {
    "name": "ipython",
    "version": 3
   },
   "file_extension": ".py",
   "mimetype": "text/x-python",
   "name": "python",
   "nbconvert_exporter": "python",
   "pygments_lexer": "ipython3",
   "version": "3.7.7"
  }
 },
 "nbformat": 4,
 "nbformat_minor": 5
}
